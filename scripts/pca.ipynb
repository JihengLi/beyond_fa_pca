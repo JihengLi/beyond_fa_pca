{
 "cells": [
  {
   "cell_type": "code",
   "execution_count": 1,
   "id": "bf5ade76",
   "metadata": {},
   "outputs": [],
   "source": [
    "from pathlib import Path\n",
    "import SimpleITK as sitk\n",
    "import numpy as np\n",
    "import pandas as pd\n",
    "from sklearn.decomposition import PCA\n",
    "from sklearn.preprocessing import StandardScaler\n",
    "from sklearn.manifold import SpectralEmbedding\n",
    "import joblib, json, glob"
   ]
  },
  {
   "cell_type": "code",
   "execution_count": 2,
   "id": "008189f3",
   "metadata": {},
   "outputs": [
    {
     "data": {
      "text/plain": [
       "118"
      ]
     },
     "execution_count": 2,
     "metadata": {},
     "output_type": "execute_result"
    }
   ],
   "source": [
    "raw_data_root = Path(\"/nfs2/harmonization/BIDS/MASiVar/derivatives/\")\n",
    "output_root = Path(\"/home-local/lij112/codes/beyond_fa_challenge/results/Inputs-master\")\n",
    "targets = list(raw_data_root.glob(\"sub-*/ses-*/PreQual/PREPROCESSED\"))\n",
    "len(targets)"
   ]
  },
  {
   "cell_type": "code",
   "execution_count": 4,
   "id": "0c53087f",
   "metadata": {},
   "outputs": [],
   "source": [
    "def convert_nifti_to_mha(input_file, output_file):\n",
    "    image = sitk.ReadImage(input_file)\n",
    "    sitk.WriteImage(image, output_file)\n",
    "\n",
    "\n",
    "def bval_bvec_to_json(bval_file, bvec_file, output_json_path):\n",
    "    with open(bval_file, \"r\") as f:\n",
    "        bvals = list(map(float, f.readline().strip().split()))\n",
    "    with open(bvec_file, \"r\") as f:\n",
    "        bvecs = [list(map(float, line.strip().split())) for line in f.readlines()]\n",
    "\n",
    "    data = []\n",
    "    for i in range(len(bvals)):\n",
    "        entry = {\n",
    "            \"BVAL\": bvals[i] if i < len(bvals) else None,\n",
    "            \"BVEC\": [\n",
    "                bvecs[0][i],\n",
    "                bvecs[1][i],\n",
    "                bvecs[2][i],\n",
    "            ],\n",
    "        }\n",
    "        data.append(entry)\n",
    "\n",
    "    with open(output_json_path, \"w\") as f:\n",
    "        json.dump(data, f, indent=4)\n",
    "\n",
    "    print(f\"JSON file saved to {output_json_path}\")"
   ]
  },
  {
   "cell_type": "code",
   "execution_count": null,
   "id": "4fcd3464",
   "metadata": {},
   "outputs": [],
   "source": [
    "for processed_dir in targets:\n",
    "    processed_dir = Path(processed_dir)\n",
    "\n",
    "    sub_id = next(p for p in processed_dir.parents if p.name.startswith(\"sub-\")).name\n",
    "    ses_id = next(p for p in processed_dir.parents if p.name.startswith(\"ses-\")).name\n",
    "    tag = f\"{sub_id}_{ses_id}\"\n",
    "\n",
    "    nifti = processed_dir / \"dwmri.nii.gz\"\n",
    "    bval = processed_dir / \"dwmri.bval\"\n",
    "    bvec = processed_dir / \"dwmri.bvec\"\n",
    "\n",
    "    if not (nifti.exists() and bval.exists() and bvec.exists()):\n",
    "        print(f\"Lack important file, jump through: {processed_dir}\")\n",
    "        continue\n",
    "\n",
    "    out_dir = output_root / tag\n",
    "    out_dir.mkdir(parents=True, exist_ok=True)\n",
    "    out_mha = out_dir / f\"{tag}.mha\"\n",
    "    out_json = out_dir / f\"{tag}.json\"\n",
    "\n",
    "    convert_nifti_to_mha(nifti, out_mha)\n",
    "    bval_bvec_to_json(bval, bvec, out_json)\n",
    "    print(f\"Finish: {tag}\")"
   ]
  },
  {
   "cell_type": "code",
   "execution_count": null,
   "id": "c8c1318d",
   "metadata": {},
   "outputs": [
    {
     "data": {
      "text/plain": [
       "array([0.31568466, 0.30538484, 0.15782933, ..., 0.00055266, 0.00069642,\n",
       "       0.00073239])"
      ]
     },
     "execution_count": 13,
     "metadata": {},
     "output_type": "execute_result"
    }
   ],
   "source": [
    "x = np.loadtxt(\n",
    "    \"/home-local/lij112/codes/beyond_fa_challenge/results/Stats-csv-master/sub-cIVs044_ses-s1Bx1_pq_dwmri_features.csv\",\n",
    "    delimiter=\",\",\n",
    "    skiprows=1,\n",
    ")\n",
    "x"
   ]
  },
  {
   "cell_type": "code",
   "execution_count": null,
   "id": "075541c6",
   "metadata": {},
   "outputs": [
    {
     "name": "stdout",
     "output_type": "stream",
     "text": [
      "X shape: (118, 2592)\n",
      "PCA result shape: (118, 60)\n",
      "SpectralEmbedding result shape: (118, 116)\n"
     ]
    },
    {
     "data": {
      "text/plain": [
       "['/home-local/lij112/codes/beyond_fa_challenge/beyond_fa_master/scripts/model/spec_model.joblib']"
      ]
     },
     "execution_count": 4,
     "metadata": {},
     "output_type": "execute_result"
    }
   ],
   "source": [
    "input_pattern = (\n",
    "    \"/home-local/lij112/codes/beyond_fa_challenge/results/Stats-csv-master/*.csv\"\n",
    ")\n",
    "\n",
    "n_pca = 60\n",
    "n_spectral = 116\n",
    "scaler_pca = (\n",
    "    \"/home-local/lij112/codes/beyond_fa_challenge/beyond_fa_pca/scripts/model/scaler_pca.joblib\"\n",
    ")\n",
    "pca_model = (\n",
    "    \"/home-local/lij112/codes/beyond_fa_challenge/beyond_fa_pca/scripts/model/pca_model.joblib\"\n",
    ")\n",
    "scaler_spec = (\n",
    "    \"/home-local/lij112/codes/beyond_fa_challenge/beyond_fa_pca/scripts/model/scaler_spec.joblib\"\n",
    ")\n",
    "spec_model = (\n",
    "    \"/home-local/lij112/codes/beyond_fa_challenge/beyond_fa_pca/scripts/model/spec_model.joblib\"\n",
    ")\n",
    "\n",
    "paths = sorted(glob.glob(input_pattern))\n",
    "X = np.vstack([np.loadtxt(p, delimiter=\",\", skiprows=1)[None, :] for p in paths])\n",
    "print(\"X shape:\", X.shape)\n",
    "\n",
    "scaler = StandardScaler().fit(X)\n",
    "Xs = scaler.transform(X)\n",
    "\n",
    "pca = PCA(n_components=min(n_pca, Xs.shape[0] - 1, Xs.shape[1]))\n",
    "Z_pca = pca.fit_transform(Xs)\n",
    "print(\"PCA result shape:\", Z_pca.shape)\n",
    "joblib.dump(scaler, scaler_pca)\n",
    "joblib.dump(pca, pca_model)\n",
    "\n",
    "spec = SpectralEmbedding(\n",
    "    n_components=min(n_spectral, Xs.shape[0] - 2, Xs.shape[1]),\n",
    "    affinity=\"nearest_neighbors\",\n",
    "    n_neighbors=10,\n",
    "    random_state=0,\n",
    ")\n",
    "Z_spec = spec.fit_transform(Xs)\n",
    "print(\"SpectralEmbedding result shape:\", Z_spec.shape)\n",
    "joblib.dump(scaler, scaler_spec)\n",
    "joblib.dump(spec, spec_model)"
   ]
  },
  {
   "cell_type": "code",
   "execution_count": 5,
   "id": "28cd711b",
   "metadata": {},
   "outputs": [
    {
     "name": "stdout",
     "output_type": "stream",
     "text": [
      "Top 32 PCs explain 87.1% of total variance\n",
      "Top 64 PCs explain 95.1% of total variance\n",
      "Top 96 PCs explain 95.1% of total variance\n",
      "Top 60 PCs explain 95.1% of total variance\n"
     ]
    }
   ],
   "source": [
    "explained = pca.explained_variance_ratio_.cumsum()\n",
    "checkpoints = [32, 64, 96, n_pca]\n",
    "for k in checkpoints:\n",
    "    idx = min(k, n_pca) - 1\n",
    "    var = explained[idx]\n",
    "    print(f\"Top {k} PCs explain {var*100:.1f}% of total variance\")"
   ]
  },
  {
   "cell_type": "code",
   "execution_count": null,
   "id": "f07de49e",
   "metadata": {},
   "outputs": [
    {
     "name": "stdout",
     "output_type": "stream",
     "text": [
      "Saved padded 128-D vector to /home-local/lij112/codes/beyond_fa_challenge/results/sub-cIVs026_ses-s1Bx2_vector_pca.json\n"
     ]
    }
   ],
   "source": [
    "scaler_pca = joblib.load(\n",
    "    \"/home-local/lij112/codes/beyond_fa_challenge/beyond_fa_pca/scripts/model/scaler_pca.joblib\"\n",
    ")\n",
    "pca_model = joblib.load(\n",
    "    \"/home-local/lij112/codes/beyond_fa_challenge/beyond_fa_pca/scripts/model/pca_model.joblib\"\n",
    ")\n",
    "\n",
    "input_csv = \"/home-local/lij112/codes/beyond_fa_challenge/results/Stats-csv-master/sub-cIVs026_ses-s1Bx2_features.csv\"\n",
    "output_json = \"/home-local/lij112/codes/beyond_fa_challenge/results/sub-cIVs026_ses-s1Bx2_vector_pca.json\"\n",
    "\n",
    "x = np.loadtxt(\n",
    "    input_csv,\n",
    "    delimiter=\",\",\n",
    "    skiprows=1,\n",
    ").reshape(1, -1)\n",
    "\n",
    "x_scaled = scaler_pca.transform(x)\n",
    "z = pca_model.transform(x_scaled).flatten()\n",
    "\n",
    "vec128 = list(z)\n",
    "if len(vec128) < 128:\n",
    "    vec128.extend([0.0] * (128 - len(vec128)))\n",
    "\n",
    "with open(output_json, \"w\") as f:\n",
    "    json.dump(vec128, f, indent=4)\n",
    "\n",
    "print(f\"Saved padded 128-D vector to {output_json}\")"
   ]
  },
  {
   "cell_type": "code",
   "execution_count": null,
   "id": "5fc9b5fd",
   "metadata": {},
   "outputs": [
    {
     "name": "stdout",
     "output_type": "stream",
     "text": [
      "Saved padded 128-D spectral vector to /home-local/lij112/codes/beyond_fa_challenge/results/sub-cIVs026_ses-s1Bx2_vector_spec.json\n"
     ]
    }
   ],
   "source": [
    "scaler_spec = joblib.load(\n",
    "    \"/home-local/lij112/codes/beyond_fa_challenge/beyond_fa_pca/scripts/model/scaler_spec.joblib\"\n",
    ")\n",
    "spec_model = joblib.load(\n",
    "    \"/home-local/lij112/codes/beyond_fa_challenge/beyond_fa_pca/scripts/model/spec_model.joblib\"\n",
    ")\n",
    "\n",
    "input_csv = \"/home-local/lij112/codes/beyond_fa_challenge/results/Stats-csv-master/sub-cIVs026_ses-s1Bx2_features.csv\"\n",
    "output_json = \"/home-local/lij112/codes/beyond_fa_challenge/results/sub-cIVs026_ses-s1Bx2_vector_spec.json\"\n",
    "\n",
    "X_train = np.vstack([\n",
    "    np.loadtxt(p, delimiter=\",\", skiprows=1)[None,:]\n",
    "    for p in paths\n",
    "])\n",
    "Xs_train = scaler_spec.transform(X_train)\n",
    "\n",
    "x_new = np.loadtxt(input_csv, delimiter=\",\", skiprows=1).reshape(1, -1)\n",
    "x_new = scaler_spec.transform(x_new)\n",
    "\n",
    "X_full = np.vstack([Xs_train, x_new])\n",
    "Z_full = spec_model.fit_transform(X_full)\n",
    "\n",
    "z_new = Z_full[-1]\n",
    "vec   = z_new.tolist()\n",
    "if len(vec) < 128:\n",
    "    vec.extend([0.0] * (128 - len(vec)))\n",
    "\n",
    "with open(output_json, \"w\") as f:\n",
    "    json.dump(vec, f, indent=4)\n",
    "\n",
    "print(f\"Saved padded 128-D spectral vector to {output_json}\")"
   ]
  },
  {
   "cell_type": "code",
   "execution_count": null,
   "id": "44404e62",
   "metadata": {},
   "outputs": [],
   "source": []
  }
 ],
 "metadata": {
  "kernelspec": {
   "display_name": "Python 3",
   "language": "python",
   "name": "python3"
  },
  "language_info": {
   "codemirror_mode": {
    "name": "ipython",
    "version": 3
   },
   "file_extension": ".py",
   "mimetype": "text/x-python",
   "name": "python",
   "nbconvert_exporter": "python",
   "pygments_lexer": "ipython3",
   "version": "3.10.12"
  }
 },
 "nbformat": 4,
 "nbformat_minor": 5
}
